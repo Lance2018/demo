{
 "cells": [
  {
   "cell_type": "markdown",
   "metadata": {},
   "source": [
    "# Using Natural Language Toolkit to analysis web scrap data on Data related jobs on Indeed.com.hk"
   ]
  },
  {
   "cell_type": "markdown",
   "metadata": {},
   "source": [
    "In the light of data science/analyst through python, machine learning is a new, expending field in Hong Kong, I conducted a small and simple analysis on job search results with related titles been posted on Indeed.com.hk, returning data sample almost 700 entries found."
   ]
  },
  {
   "cell_type": "code",
   "execution_count": 3,
   "metadata": {},
   "outputs": [],
   "source": [
    "import nltk, re\n",
    "from nltk.tokenize import word_tokenize\n",
    "from nltk.corpus import stopwords\n",
    "from nltk.util import ngrams\n",
    "from collections import Counter\n",
    "import pandas as pd\n",
    "import json\n",
    "\n",
    "with open('indeedscrape.json', 'r+') as outfile:\n",
    "    data = json.load(outfile)\n",
    "    \n",
    "s = json.dumps(data, sort_keys=True, indent=2)"
   ]
  },
  {
   "cell_type": "code",
   "execution_count": 11,
   "metadata": {},
   "outputs": [
    {
     "name": "stderr",
     "output_type": "stream",
     "text": [
      "[nltk_data] Downloading package punkt to C:\\Users\\Lance K\n",
      "[nltk_data]     Lau\\AppData\\Roaming\\nltk_data...\n",
      "[nltk_data]   Package punkt is already up-to-date!\n"
     ]
    },
    {
     "data": {
      "text/plain": [
       "True"
      ]
     },
     "execution_count": 11,
     "metadata": {},
     "output_type": "execute_result"
    }
   ],
   "source": [
    "nltk.download('punkt')"
   ]
  },
  {
   "cell_type": "markdown",
   "metadata": {},
   "source": [
    "# Creating parameters to filter our data for better analysis by using tokenization of string"
   ]
  },
  {
   "cell_type": "code",
   "execution_count": 11,
   "metadata": {},
   "outputs": [],
   "source": [
    "stoplist = set(stopwords.words('english'))\n",
    "target = ['powerbi','analysis','computer', 'science', 'finance', 'chinese', 'management', 'bachelor', 'masters', 'phd', 'computer science', 'math', 'statistics', 'algebra', 'calculus', 'informatics', 'python', 'r', 'c+', 'c#', 'java', 'javascript', 'node', 'angular', 'html', 'php', 'bootstrap', 'django', 'css', 'wordpress', 'agile''d3.js', 'tableau', 'jupyter', 'seaborn', 'sql', 'nosql', 'mysql', 'postgres', 'mongodb', ' api', 'scala', 'hadoop', 'spark', 'tensor', 'nltk', ' AI', 'cloud', ' etl', 'azure', 'lake', 'model', 'hortonworks', 'pyspark', 'numpy', 'pandas', 'linux', 'unix','deep', 'learning', 'neural network', 'machine', 'learning', 'mining', 'research', 'data', 'recommendation', 'systems', 'scrap', 'scikit', 'keras', 'agile', 'communication', 'interpersonal', 'grad', 'people skills', 'english', 'mandarin', 'cantonese']\n",
    "cleaned = re.sub('\\W+', ' ', s).lower()\n",
    "words = word_tokenize(cleaned)\n",
    "tokenized = [w for w in words if not w in stoplist]\n",
    "filtered = [w for w in tokenized if w in target]\n",
    "\n",
    "#tokenized = word_tokenize(cleaned)"
   ]
  },
  {
   "cell_type": "code",
   "execution_count": 12,
   "metadata": {},
   "outputs": [
    {
     "data": {
      "text/html": [
       "<div>\n",
       "<style scoped>\n",
       "    .dataframe tbody tr th:only-of-type {\n",
       "        vertical-align: middle;\n",
       "    }\n",
       "\n",
       "    .dataframe tbody tr th {\n",
       "        vertical-align: top;\n",
       "    }\n",
       "\n",
       "    .dataframe thead th {\n",
       "        text-align: right;\n",
       "    }\n",
       "</style>\n",
       "<table border=\"1\" class=\"dataframe\">\n",
       "  <thead>\n",
       "    <tr style=\"text-align: right;\">\n",
       "      <th></th>\n",
       "      <th>Counts</th>\n",
       "    </tr>\n",
       "    <tr>\n",
       "      <th>Words</th>\n",
       "      <th></th>\n",
       "    </tr>\n",
       "  </thead>\n",
       "  <tbody>\n",
       "    <tr>\n",
       "      <th>management</th>\n",
       "      <td>801</td>\n",
       "    </tr>\n",
       "    <tr>\n",
       "      <th>science</th>\n",
       "      <td>761</td>\n",
       "    </tr>\n",
       "    <tr>\n",
       "      <th>computer</th>\n",
       "      <td>591</td>\n",
       "    </tr>\n",
       "    <tr>\n",
       "      <th>analysis</th>\n",
       "      <td>576</td>\n",
       "    </tr>\n",
       "    <tr>\n",
       "      <th>sql</th>\n",
       "      <td>495</td>\n",
       "    </tr>\n",
       "    <tr>\n",
       "      <th>english</th>\n",
       "      <td>454</td>\n",
       "    </tr>\n",
       "    <tr>\n",
       "      <th>communication</th>\n",
       "      <td>426</td>\n",
       "    </tr>\n",
       "    <tr>\n",
       "      <th>systems</th>\n",
       "      <td>350</td>\n",
       "    </tr>\n",
       "    <tr>\n",
       "      <th>research</th>\n",
       "      <td>293</td>\n",
       "    </tr>\n",
       "    <tr>\n",
       "      <th>bachelor</th>\n",
       "      <td>266</td>\n",
       "    </tr>\n",
       "    <tr>\n",
       "      <th>python</th>\n",
       "      <td>259</td>\n",
       "    </tr>\n",
       "    <tr>\n",
       "      <th>mandarin</th>\n",
       "      <td>210</td>\n",
       "    </tr>\n",
       "    <tr>\n",
       "      <th>r</th>\n",
       "      <td>204</td>\n",
       "    </tr>\n",
       "    <tr>\n",
       "      <th>learning</th>\n",
       "      <td>198</td>\n",
       "    </tr>\n",
       "    <tr>\n",
       "      <th>chinese</th>\n",
       "      <td>197</td>\n",
       "    </tr>\n",
       "  </tbody>\n",
       "</table>\n",
       "</div>"
      ],
      "text/plain": [
       "               Counts\n",
       "Words                \n",
       "management        801\n",
       "science           761\n",
       "computer          591\n",
       "analysis          576\n",
       "sql               495\n",
       "english           454\n",
       "communication     426\n",
       "systems           350\n",
       "research          293\n",
       "bachelor          266\n",
       "python            259\n",
       "mandarin          210\n",
       "r                 204\n",
       "learning          198\n",
       "chinese           197"
      ]
     },
     "execution_count": 12,
     "metadata": {},
     "output_type": "execute_result"
    }
   ],
   "source": [
    "df = pd.DataFrame(filtered)\n",
    "df.columns=['Words']\n",
    "df.reset_index(inplace=True)\n",
    "df2 = df.groupby('Words').Words.count()\n",
    "df2 = pd.DataFrame(df2)\n",
    "df2.rename(columns={'Words':'Counts'}, inplace=True)\n",
    "df5 = df2.sort_values(by=['Counts'], ascending=False)\n",
    "df5.drop(df5.index[0], inplace=True)\n",
    "#df5.reset_index(level=0, inplace=True)\n",
    "df5.head(15)"
   ]
  },
  {
   "cell_type": "markdown",
   "metadata": {},
   "source": [
    "# Visualising initial finding through most repeated words"
   ]
  },
  {
   "cell_type": "code",
   "execution_count": 13,
   "metadata": {},
   "outputs": [
    {
     "data": {
      "image/png": "[encoded data removed]",
      "text/plain": [
       "<Figure size 1152x576 with 1 Axes>"
      ]
     },
     "metadata": {
      "needs_background": "light"
     },
     "output_type": "display_data"
    }
   ],
   "source": [
    "from matplotlib import pyplot as plt\n",
    "plt.rcParams['figure.figsize'] = [16, 8]\n",
    "#plt.bar(range(len(df5)), df5['Counts'])\n",
    "df5.plot(kind='bar')\n",
    "plt.show()"
   ]
  },
  {
   "cell_type": "markdown",
   "metadata": {},
   "source": [
    "# Using Ngrams function to figure out what employer usually require for data related job titles"
   ]
  },
  {
   "cell_type": "markdown",
   "metadata": {},
   "source": [
    "The following tables show words that are most frequently been used together"
   ]
  },
  {
   "cell_type": "code",
   "execution_count": 10,
   "metadata": {},
   "outputs": [
    {
     "data": {
      "text/html": [
       "<div>\n",
       "<style scoped>\n",
       "    .dataframe tbody tr th:only-of-type {\n",
       "        vertical-align: middle;\n",
       "    }\n",
       "\n",
       "    .dataframe tbody tr th {\n",
       "        vertical-align: top;\n",
       "    }\n",
       "\n",
       "    .dataframe thead th {\n",
       "        text-align: right;\n",
       "    }\n",
       "</style>\n",
       "<table border=\"1\" class=\"dataframe\">\n",
       "  <thead>\n",
       "    <tr style=\"text-align: right;\">\n",
       "      <th></th>\n",
       "      <th>Trigrams</th>\n",
       "      <th>Count</th>\n",
       "    </tr>\n",
       "  </thead>\n",
       "  <tbody>\n",
       "    <tr>\n",
       "      <th>0</th>\n",
       "      <td>(data, data, data)</td>\n",
       "      <td>274</td>\n",
       "    </tr>\n",
       "    <tr>\n",
       "      <th>1</th>\n",
       "      <td>(data, analysis, data)</td>\n",
       "      <td>263</td>\n",
       "    </tr>\n",
       "    <tr>\n",
       "      <th>2</th>\n",
       "      <td>(bachelor, computer, science)</td>\n",
       "      <td>170</td>\n",
       "    </tr>\n",
       "    <tr>\n",
       "      <th>3</th>\n",
       "      <td>(data, data, analysis)</td>\n",
       "      <td>160</td>\n",
       "    </tr>\n",
       "    <tr>\n",
       "      <th>4</th>\n",
       "      <td>(computer, science, management)</td>\n",
       "      <td>156</td>\n",
       "    </tr>\n",
       "    <tr>\n",
       "      <th>5</th>\n",
       "      <td>(english, cantonese, mandarin)</td>\n",
       "      <td>128</td>\n",
       "    </tr>\n",
       "    <tr>\n",
       "      <th>6</th>\n",
       "      <td>(data, bachelor, computer)</td>\n",
       "      <td>120</td>\n",
       "    </tr>\n",
       "    <tr>\n",
       "      <th>7</th>\n",
       "      <td>(analysis, data, analysis)</td>\n",
       "      <td>117</td>\n",
       "    </tr>\n",
       "    <tr>\n",
       "      <th>8</th>\n",
       "      <td>(communication, english, cantonese)</td>\n",
       "      <td>114</td>\n",
       "    </tr>\n",
       "    <tr>\n",
       "      <th>9</th>\n",
       "      <td>(cantonese, mandarin, data)</td>\n",
       "      <td>109</td>\n",
       "    </tr>\n",
       "    <tr>\n",
       "      <th>10</th>\n",
       "      <td>(research, data, data)</td>\n",
       "      <td>108</td>\n",
       "    </tr>\n",
       "    <tr>\n",
       "      <th>11</th>\n",
       "      <td>(sql, sql, data)</td>\n",
       "      <td>105</td>\n",
       "    </tr>\n",
       "    <tr>\n",
       "      <th>12</th>\n",
       "      <td>(analysis, data, bachelor)</td>\n",
       "      <td>104</td>\n",
       "    </tr>\n",
       "    <tr>\n",
       "      <th>13</th>\n",
       "      <td>(science, management, systems)</td>\n",
       "      <td>104</td>\n",
       "    </tr>\n",
       "    <tr>\n",
       "      <th>14</th>\n",
       "      <td>(management, systems, python)</td>\n",
       "      <td>101</td>\n",
       "    </tr>\n",
       "    <tr>\n",
       "      <th>15</th>\n",
       "      <td>(systems, python, php)</td>\n",
       "      <td>101</td>\n",
       "    </tr>\n",
       "    <tr>\n",
       "      <th>16</th>\n",
       "      <td>(python, php, sql)</td>\n",
       "      <td>101</td>\n",
       "    </tr>\n",
       "    <tr>\n",
       "      <th>17</th>\n",
       "      <td>(php, sql, hadoop)</td>\n",
       "      <td>101</td>\n",
       "    </tr>\n",
       "    <tr>\n",
       "      <th>18</th>\n",
       "      <td>(sql, hadoop, sql)</td>\n",
       "      <td>101</td>\n",
       "    </tr>\n",
       "    <tr>\n",
       "      <th>19</th>\n",
       "      <td>(hadoop, sql, sql)</td>\n",
       "      <td>101</td>\n",
       "    </tr>\n",
       "    <tr>\n",
       "      <th>20</th>\n",
       "      <td>(sql, data, r)</td>\n",
       "      <td>101</td>\n",
       "    </tr>\n",
       "    <tr>\n",
       "      <th>21</th>\n",
       "      <td>(data, r, communication)</td>\n",
       "      <td>101</td>\n",
       "    </tr>\n",
       "    <tr>\n",
       "      <th>22</th>\n",
       "      <td>(r, communication, english)</td>\n",
       "      <td>101</td>\n",
       "    </tr>\n",
       "    <tr>\n",
       "      <th>23</th>\n",
       "      <td>(computer, science, data)</td>\n",
       "      <td>82</td>\n",
       "    </tr>\n",
       "    <tr>\n",
       "      <th>24</th>\n",
       "      <td>(data, computer, science)</td>\n",
       "      <td>66</td>\n",
       "    </tr>\n",
       "  </tbody>\n",
       "</table>\n",
       "</div>"
      ],
      "text/plain": [
       "                               Trigrams  Count\n",
       "0                    (data, data, data)    274\n",
       "1                (data, analysis, data)    263\n",
       "2         (bachelor, computer, science)    170\n",
       "3                (data, data, analysis)    160\n",
       "4       (computer, science, management)    156\n",
       "5        (english, cantonese, mandarin)    128\n",
       "6            (data, bachelor, computer)    120\n",
       "7            (analysis, data, analysis)    117\n",
       "8   (communication, english, cantonese)    114\n",
       "9           (cantonese, mandarin, data)    109\n",
       "10               (research, data, data)    108\n",
       "11                     (sql, sql, data)    105\n",
       "12           (analysis, data, bachelor)    104\n",
       "13       (science, management, systems)    104\n",
       "14        (management, systems, python)    101\n",
       "15               (systems, python, php)    101\n",
       "16                   (python, php, sql)    101\n",
       "17                   (php, sql, hadoop)    101\n",
       "18                   (sql, hadoop, sql)    101\n",
       "19                   (hadoop, sql, sql)    101\n",
       "20                       (sql, data, r)    101\n",
       "21             (data, r, communication)    101\n",
       "22          (r, communication, english)    101\n",
       "23            (computer, science, data)     82\n",
       "24            (data, computer, science)     66"
      ]
     },
     "execution_count": 10,
     "metadata": {},
     "output_type": "execute_result"
    }
   ],
   "source": [
    "job_trigrams = ngrams(filtered, 3)\n",
    "job_trigrams_frequency = Counter(job_trigrams)\n",
    "a = job_trigrams_frequency.most_common(25)\n",
    "df3 = pd.DataFrame(a)\n",
    "df3.columns = ['Trigrams', 'Count']\n",
    "df3"
   ]
  },
  {
   "cell_type": "markdown",
   "metadata": {},
   "source": [
    "- From the above results, a lot of employers are hiring for data and relational database management with SQL or PHP.\n",
    "- However, despite plenty of employers expressed the need for data analysis, only few can specify analytic languages such as Python and R, and fewer mentioned about useful data visualization tools like Tableau and PowerBi.\n",
    "- While powerful python analytic tools and libraries, and even the stunning, easy-to-use Microsoft PowerBi only existed for a few years, traditional education institutions have yet to adept to the radical changes of data analytic world, employers still using computer science bachelor degree as a screening standard, which costed them real talents and competitive advantage. \n",
    "- Knowing that data analytic is still new to employers in Hong Kong, it is possible that knowledge gap exists between HR department and the actual needs of their data team, leaving companies in the danger of falling behind in this big data era."
   ]
  },
  {
   "cell_type": "code",
   "execution_count": null,
   "metadata": {},
   "outputs": [],
   "source": []
  }
 ],
 "metadata": {
  "kernelspec": {
   "display_name": "Python 3",
   "language": "python",
   "name": "python3"
  },
  "language_info": {
   "codemirror_mode": {
    "name": "ipython",
    "version": 3
   },
   "file_extension": ".py",
   "mimetype": "text/x-python",
   "name": "python",
   "nbconvert_exporter": "python",
   "pygments_lexer": "ipython3",
   "version": "3.7.1"
  }
 },
 "nbformat": 4,
 "nbformat_minor": 2
}
